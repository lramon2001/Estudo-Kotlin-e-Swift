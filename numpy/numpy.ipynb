{
 "cells": [
  {
   "cell_type": "code",
   "execution_count": 2,
   "metadata": {},
   "outputs": [],
   "source": [
    "import numpy as np"
   ]
  },
  {
   "cell_type": "markdown",
   "metadata": {},
   "source": [
    "# Reshape"
   ]
  },
  {
   "cell_type": "code",
   "execution_count": 3,
   "metadata": {},
   "outputs": [
    {
     "data": {
      "text/plain": [
       "array([ 0,  1,  2,  3,  4,  5,  6,  7,  8,  9, 10, 11, 12, 13, 14, 15, 16,\n",
       "       17, 18, 19, 20, 21, 22, 23, 24, 25, 26, 27, 28, 29])"
      ]
     },
     "execution_count": 3,
     "metadata": {},
     "output_type": "execute_result"
    }
   ],
   "source": [
    "a = np.arange(30)\n",
    "a\n",
    "# Um vetor com 30 elementos que é 2*3*5 pra ter vários divisores e ajudar\n",
    "# nos exemplos"
   ]
  },
  {
   "cell_type": "code",
   "execution_count": 4,
   "metadata": {},
   "outputs": [
    {
     "data": {
      "text/plain": [
       "array([[ 0,  1,  2],\n",
       "       [ 3,  4,  5],\n",
       "       [ 6,  7,  8],\n",
       "       [ 9, 10, 11],\n",
       "       [12, 13, 14],\n",
       "       [15, 16, 17],\n",
       "       [18, 19, 20],\n",
       "       [21, 22, 23],\n",
       "       [24, 25, 26],\n",
       "       [27, 28, 29]])"
      ]
     },
     "execution_count": 4,
     "metadata": {},
     "output_type": "execute_result"
    }
   ],
   "source": [
    "a = np.arange(30)\n",
    "#             i   j\n",
    "b = a.reshape(-1, 3)\n",
    "b\n",
    "# quando tu usa -1, tu ta basicamente falando \"Descobre ae mano\"\n",
    "# Ent nesse caso tu deu reshape de forma que a quantidade de i (linhas) ele descubra\n",
    "# E que a quantidade de j (colunas) seja 3\n",
    "# Como o vetor a tinha 30 elementos e a gente pediu pra ter 3 colunas, ele vai gerar\n",
    "# uma matriz 10x3 (10 linhas e 3 colunas)"
   ]
  },
  {
   "cell_type": "code",
   "execution_count": 5,
   "metadata": {},
   "outputs": [
    {
     "data": {
      "text/plain": [
       "array([[ 0,  1,  2,  3,  4,  5,  6,  7,  8,  9, 10, 11, 12, 13, 14],\n",
       "       [15, 16, 17, 18, 19, 20, 21, 22, 23, 24, 25, 26, 27, 28, 29]])"
      ]
     },
     "execution_count": 5,
     "metadata": {},
     "output_type": "execute_result"
    }
   ],
   "source": [
    "a = np.arange(30)\n",
    "c = a.reshape(2, -1)\n",
    "c\n",
    "# Se a gente pedir 2 linhas e -1 colunas, ele vai gerar uma matriz 2x15"
   ]
  },
  {
   "cell_type": "code",
   "execution_count": 6,
   "metadata": {},
   "outputs": [
    {
     "ename": "ValueError",
     "evalue": "cannot reshape array of size 30 into shape (7,newaxis)",
     "output_type": "error",
     "traceback": [
      "\u001b[0;31m---------------------------------------------------------------------------\u001b[0m",
      "\u001b[0;31mValueError\u001b[0m                                Traceback (most recent call last)",
      "Cell \u001b[0;32mIn[6], line 3\u001b[0m\n\u001b[1;32m      1\u001b[0m \u001b[38;5;66;03m# Se pedir um valor em que i*j != len(v) ele vai dar erro\u001b[39;00m\n\u001b[1;32m      2\u001b[0m \u001b[38;5;66;03m# Todos abaixo geram erros\u001b[39;00m\n\u001b[0;32m----> 3\u001b[0m \u001b[43ma\u001b[49m\u001b[38;5;241;43m.\u001b[39;49m\u001b[43mreshape\u001b[49m\u001b[43m(\u001b[49m\u001b[38;5;241;43m7\u001b[39;49m\u001b[43m,\u001b[49m\u001b[43m \u001b[49m\u001b[38;5;241;43m-\u001b[39;49m\u001b[38;5;241;43m1\u001b[39;49m\u001b[43m)\u001b[49m \u001b[38;5;66;03m# Não é possível dividir por 7 (Não existe nenhum valor que multiplicado por 7 vai dar o len do vetor)\u001b[39;00m\n\u001b[1;32m      4\u001b[0m a\u001b[38;5;241m.\u001b[39mreshape(\u001b[38;5;241m-\u001b[39m\u001b[38;5;241m1\u001b[39m, \u001b[38;5;241m7\u001b[39m) \u001b[38;5;66;03m# Idem\u001b[39;00m\n\u001b[1;32m      5\u001b[0m a\u001b[38;5;241m.\u001b[39mreshape(\u001b[38;5;241m2\u001b[39m, \u001b[38;5;241m1\u001b[39m) \u001b[38;5;66;03m# 2 * 1 != 30\u001b[39;00m\n",
      "\u001b[0;31mValueError\u001b[0m: cannot reshape array of size 30 into shape (7,newaxis)"
     ]
    }
   ],
   "source": [
    "a = np.arange(30)\n",
    "# Se pedir um valor em que i*j != len(v) ele vai dar erro\n",
    "# Todos abaixo geram erros\n",
    "a.reshape(7, -1) # Não é possível dividir por 7 (Não existe nenhum valor que multiplicado por 7 vai dar o len do vetor)\n",
    "a.reshape(-1, 7) # Idem\n",
    "a.reshape(2, 1) # 2 * 1 != 30"
   ]
  },
  {
   "cell_type": "markdown",
   "metadata": {},
   "source": [
    "# Operações ndarray com números literais"
   ]
  },
  {
   "cell_type": "code",
   "execution_count": 7,
   "metadata": {},
   "outputs": [
    {
     "name": "stdout",
     "output_type": "stream",
     "text": [
      "Soma: [ 3  4  5  6  7  8  9 10 11 12 13 14 15 16 17 18 19 20 21 22 23 24 25 26\n",
      " 27 28 29 30 31 32]\n",
      "Potenciação: [  0   1   4   9  16  25  36  49  64  81 100 121 144 169 196 225 256 289\n",
      " 324 361 400 441 484 529 576 625 676 729 784 841]\n",
      "Divisão Inteira: [ 0  0  1  1  2  2  3  3  4  4  5  5  6  6  7  7  8  8  9  9 10 10 11 11\n",
      " 12 12 13 13 14 14]\n"
     ]
    }
   ],
   "source": [
    "a = np.arange(30)\n",
    "# Ao pegar vetores de 1 dimensão\n",
    "print(\"Soma:\", a + 3)\n",
    "# Aplicam a cada elemento\n",
    "# Lembrando que pode ser usada --> QUALQUER <-- operação do python\n",
    "# Exemplo:\n",
    "print(\"Potenciação:\", a ** 2)\n",
    "print(\"Divisão Inteira:\", a // 2)"
   ]
  },
  {
   "cell_type": "markdown",
   "metadata": {},
   "source": [
    "# Operações python ndarray com ndarray"
   ]
  },
  {
   "cell_type": "code",
   "execution_count": 9,
   "metadata": {},
   "outputs": [
    {
     "data": {
      "text/plain": [
       "array([[ 1.,  2.,  3.,  4.,  5.,  6.,  7.,  8.,  9., 10., 11., 12., 13.,\n",
       "        14., 15.],\n",
       "       [16., 17., 18., 19., 20., 21., 22., 23., 24., 25., 26., 27., 28.,\n",
       "        29., 30.]])"
      ]
     },
     "execution_count": 9,
     "metadata": {},
     "output_type": "execute_result"
    }
   ],
   "source": [
    "# Só é possível se forem de mesma dimensão i1 == i2 && j1 == j2\n",
    "# --> TODAS <-- as operações python são aceitas\n",
    "# Será aplica elemento por elemento\n",
    "v = a.reshape(2, 15)\n",
    "t = np.ones(30).reshape(2, 15)\n",
    "v + t\n"
   ]
  },
  {
   "cell_type": "markdown",
   "metadata": {},
   "source": [
    "# Operações do próprio numpy"
   ]
  },
  {
   "cell_type": "code",
   "execution_count": 21,
   "metadata": {},
   "outputs": [
    {
     "name": "stdout",
     "output_type": "stream",
     "text": [
      "435 14.5\n"
     ]
    }
   ],
   "source": [
    "# Sum -> Pode ter quantas dimensões quiser, sempre retornará a soma de todos os\n",
    "# elementos\n",
    "s = np.sum(a.reshape(2, 3, 5))\n",
    "m = np.mean(a.reshape(2, 3, 5))\n",
    "print(s, m)"
   ]
  },
  {
   "cell_type": "markdown",
   "metadata": {},
   "source": [
    "# Funções python nos arrays do numpy"
   ]
  },
  {
   "cell_type": "code",
   "execution_count": 33,
   "metadata": {},
   "outputs": [
    {
     "name": "stdout",
     "output_type": "stream",
     "text": [
      "sum(a) = [4 6]\n",
      "sum(b) = [10]\n",
      "sum(c) = 10\n"
     ]
    }
   ],
   "source": [
    "\"\"\"\n",
    "Aqui tem q tomar cuidado hein, pra nn confundir.\n",
    "A lib python implementa o sum iterando por todos os elementos e somando\n",
    "em uma variável acumulativa. Portanto, se tiver sum([[1, 2], [3, 4]])\n",
    "é a mesma coisa de [1, 2] + [3, 4]\n",
    "\n",
    "E lembre que diferente de um array python comum, os arrays numpy quando feitos\n",
    "operações eles fazem as operações com cada posição relativa ao outro\n",
    "então geraria: [1+3, 2+4] = [4, 6]\n",
    "\"\"\"\n",
    "a = np.array([[1, 2], [3, 4]])\n",
    "print(\"sum(a) =\", sum(a))\n",
    "\n",
    "b = np.array([[1], [2], [3], [4]])\n",
    "print(\"sum(b) =\", sum(b))\n",
    "\n",
    "c = np.array([1, 2, 3, 4])\n",
    "print(\"sum(c) =\", sum(c))\n",
    "\"\"\"\n",
    "Repare a diferença entre sum(b) e sum(c)\n",
    "Já que o b vai somando vetores [1] + [2] + [3] + [4]\n",
    "ele retorna um vetor [10]\n",
    "\n",
    "Já no c, só tem uma dimensão, ent ele vai somando os valores 1 + 2 + 3 + 4\n",
    "Retornando apenas o número 10\n",
    "\"\"\""
   ]
  },
  {
   "cell_type": "code",
   "execution_count": 29,
   "metadata": {},
   "outputs": [
    {
     "name": "stdout",
     "output_type": "stream",
     "text": [
      "[1, 2, 3, 4]\n",
      "[1, 2, 3, 1, 2, 3, 1, 2, 3]\n"
     ]
    }
   ],
   "source": [
    "\"\"\"\n",
    "Mas nn vai confundir na prova com os arrays padrões do python hein\n",
    "[1, 2] + [3, 4] = [1, 2, 3, 4]\n",
    "\n",
    "Apenas os arrays do numpy que conseguem fazer as operações matemáticas\n",
    "Os arrays nativos do python é diferente\n",
    "O + faz extend no vetor\n",
    "E o * repete os elementos\n",
    "\"\"\"\n",
    "print([1, 2] + [3, 4])\n",
    "print([1, 2, 3] * 3)"
   ]
  }
 ],
 "metadata": {
  "kernelspec": {
   "display_name": "Python 3",
   "language": "python",
   "name": "python3"
  },
  "language_info": {
   "codemirror_mode": {
    "name": "ipython",
    "version": 3
   },
   "file_extension": ".py",
   "mimetype": "text/x-python",
   "name": "python",
   "nbconvert_exporter": "python",
   "pygments_lexer": "ipython3",
   "version": "3.10.12"
  }
 },
 "nbformat": 4,
 "nbformat_minor": 2
}
